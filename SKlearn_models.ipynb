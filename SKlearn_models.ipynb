{
  "nbformat": 4,
  "nbformat_minor": 0,
  "metadata": {
    "colab": {
      "name": "SKlearn_models.ipynb",
      "provenance": [],
      "toc_visible": true
    },
    "kernelspec": {
      "name": "python3",
      "display_name": "Python 3"
    },
    "language_info": {
      "name": "python"
    }
  },
  "cells": [
    {
      "cell_type": "markdown",
      "metadata": {
        "id": "qVZVtwC4A2kK"
      },
      "source": [
        "Welcome to my source code, this is a ML classifier project \\\n",
        "Using this to better understand ML"
      ]
    },
    {
      "cell_type": "markdown",
      "metadata": {
        "id": "qAj-U-T_DcZ8"
      },
      "source": [
        "\n",
        "\n",
        "---\n",
        "\n"
      ]
    },
    {
      "cell_type": "markdown",
      "metadata": {
        "id": "nvgLdN-LDgLJ"
      },
      "source": [
        "Initialize review objects"
      ]
    },
    {
      "cell_type": "code",
      "metadata": {
        "id": "GJAWMNnfDI9T"
      },
      "source": [
        "#Enum Class\n",
        "class Sentiment:\n",
        "  POSITIVE = \"POSITIVE\"\n",
        "  NEUTRAL = \"NEUTRAL\"\n",
        "  NEGATIVE = \"NEGATIVE\"\n",
        "\n",
        "\n",
        "class Review:\n",
        "  def __init__(self,text, score):\n",
        "    self.text = text\n",
        "    self.score = score\n",
        "    self.sentiment = self.get_sentiment()\n",
        "  \n",
        "  def get_sentiment(self):\n",
        "    # Categorizes review Score objects, \n",
        "    if self.score <= 2:\n",
        "      return Sentiment.NEGATIVE\n",
        "    elif self.score == 3:\n",
        "      return Sentiment.NEUTRAL\n",
        "    else: #Score of 4 or 5\n",
        "      return Sentiment.POSITIVE\n",
        "\n",
        "\n",
        "\n"
      ],
      "execution_count": 132,
      "outputs": []
    },
    {
      "cell_type": "markdown",
      "metadata": {
        "id": "94kUlY_2C_kb"
      },
      "source": [
        "Loads in amazon review data from .JSON value,"
      ]
    },
    {
      "cell_type": "code",
      "metadata": {
        "colab": {
          "base_uri": "https://localhost:8080/",
          "height": 35
        },
        "id": "mzpVX2yRCI1T",
        "outputId": "1e43eea2-5ba1-4661-f314-6c387e3ec36e"
      },
      "source": [
        "import numpy as np\n",
        "import json\n",
        "file = 'Books_small.json'\n",
        "reviews  = []\n",
        "\n",
        "with open(file) as f:\n",
        "  for line in f:\n",
        "    review = json.loads(line)\n",
        "    reviews.append(Review(review['reviewText'], review['overall']))\n",
        "\n",
        "reviews[5].text\n",
        "    "
      ],
      "execution_count": 133,
      "outputs": [
        {
          "output_type": "execute_result",
          "data": {
            "application/vnd.google.colaboratory.intrinsic+json": {
              "type": "string"
            },
            "text/plain": [
              "'Love the book, great story line, keeps you entertained.for a first novel from this author she did a great job,  Would definitely recommend!'"
            ]
          },
          "metadata": {
            "tags": []
          },
          "execution_count": 133
        }
      ]
    },
    {
      "cell_type": "code",
      "metadata": {
        "id": "N4tvQrXNGjAy"
      },
      "source": [
        ""
      ],
      "execution_count": 133,
      "outputs": []
    },
    {
      "cell_type": "markdown",
      "metadata": {
        "id": "he8UvJJtGmSj"
      },
      "source": [
        "## ***Preperation of data***\n",
        "https://scikit-learn.org/stable/model_selection.html"
      ]
    },
    {
      "cell_type": "code",
      "metadata": {
        "id": "M9P-q7gVG0Ya"
      },
      "source": [
        "from sklearn.model_selection import train_test_split\n",
        "training, test = train_test_split(reviews, test_size = 0.33, random_state= 42)"
      ],
      "execution_count": 134,
      "outputs": []
    },
    {
      "cell_type": "code",
      "metadata": {
        "colab": {
          "base_uri": "https://localhost:8080/"
        },
        "id": "Z-ukkCuzHpIs",
        "outputId": "a4abaae7-448d-4d5b-b056-d881bbe6510a"
      },
      "source": [
        "len(training) #Splitting training, review subset under the sentiment classifier"
      ],
      "execution_count": 135,
      "outputs": [
        {
          "output_type": "execute_result",
          "data": {
            "text/plain": [
              "670"
            ]
          },
          "metadata": {
            "tags": []
          },
          "execution_count": 135
        }
      ]
    },
    {
      "cell_type": "code",
      "metadata": {
        "colab": {
          "base_uri": "https://localhost:8080/",
          "height": 35
        },
        "id": "QPOEWUrBH7xk",
        "outputId": "5c73a30e-f927-42b5-cf85-0e860862036d"
      },
      "source": [
        "train_x = [x.text for x in training]\n",
        "train_y = [y.text for y in training]\n",
        "\n",
        "test_x = [x.text for x in test]\n",
        "\n",
        "train_x[0]\n",
        "train_x[0]"
      ],
      "execution_count": 136,
      "outputs": [
        {
          "output_type": "execute_result",
          "data": {
            "application/vnd.google.colaboratory.intrinsic+json": {
              "type": "string"
            },
            "text/plain": [
              "\"Vivid characters and descriptions. The author has created a tale that grabs your attention and I couldn't put it down.\""
            ]
          },
          "metadata": {
            "tags": []
          },
          "execution_count": 136
        }
      ]
    },
    {
      "cell_type": "markdown",
      "metadata": {
        "id": "RAMa3egcIvuI"
      },
      "source": [
        "Init Counter vectorizer, then transform text into dataset"
      ]
    },
    {
      "cell_type": "code",
      "metadata": {
        "colab": {
          "base_uri": "https://localhost:8080/"
        },
        "id": "_AfEmon9IqSm",
        "outputId": "3779fda0-f96d-498f-cc9d-e8e3c0c3d0c0"
      },
      "source": [
        "from sklearn.feature_extraction.text import CountVectorizer\n",
        "\n",
        "vectorizer = CountVectorizer()\n",
        "train_x_vectors = vectorizer.fit_transform(train_x)\n",
        "test_x_vectors = vectorizer.transform(test_x)        \n",
        "\n",
        "\n",
        "print(train_x[0])\n",
        "print(train_x_vectors[0].toarray())\n",
        "\n"
      ],
      "execution_count": 137,
      "outputs": [
        {
          "output_type": "stream",
          "text": [
            "Vivid characters and descriptions. The author has created a tale that grabs your attention and I couldn't put it down.\n",
            "[[0 0 0 ... 0 0 0]]\n"
          ],
          "name": "stdout"
        }
      ]
    },
    {
      "cell_type": "markdown",
      "metadata": {
        "id": "MB4esCEyKrtR"
      },
      "source": [
        "# **Classification**"
      ]
    },
    {
      "cell_type": "code",
      "metadata": {
        "colab": {
          "base_uri": "https://localhost:8080/"
        },
        "id": "CNR_dzLWKv2-",
        "outputId": "dbd29448-60ff-4c32-98ae-f074a04340ee"
      },
      "source": [
        "# Linear SVM classifier model\n",
        "from sklearn import svm\n",
        "\n",
        "clf_svm = svm.SVC(kernel = \"linear\")\n",
        "\n",
        "clf_svm.fit(train_x_vectors, train_y)\n",
        "\n",
        "#Testing prediction based off X vector classification\n",
        "test_x[0]\n",
        "\n",
        "\n",
        "clf_svm.predict(test_x_vectors[0])\n"
      ],
      "execution_count": 138,
      "outputs": [
        {
          "output_type": "execute_result",
          "data": {
            "text/plain": [
              "array([\"The book is short and to the point.  It had some tips that I didn't know, but many I did.\"],\n",
              "      dtype='<U6468')"
            ]
          },
          "metadata": {
            "tags": []
          },
          "execution_count": 138
        }
      ]
    },
    {
      "cell_type": "markdown",
      "metadata": {
        "id": "hEFhZh-IOSkE"
      },
      "source": [
        "**Decision Tree Classification**"
      ]
    },
    {
      "cell_type": "code",
      "metadata": {
        "colab": {
          "base_uri": "https://localhost:8080/"
        },
        "id": "6jGYv1rqLHWT",
        "outputId": "cd800a12-f703-4c4a-a633-f488f63b53af"
      },
      "source": [
        "from sklearn.tree import DecisionTreeClassifier\n",
        "\n",
        "clf_dec = DecisionTreeClassifier()\n",
        "clf_dec.fit(train_x_vectors, train_y)\n",
        "\n",
        "clf_dec.predict(train_x_vectors[0])"
      ],
      "execution_count": 139,
      "outputs": [
        {
          "output_type": "execute_result",
          "data": {
            "text/plain": [
              "array([\"Vivid characters and descriptions. The author has created a tale that grabs your attention and I couldn't put it down.\"],\n",
              "      dtype='<U6468')"
            ]
          },
          "metadata": {
            "tags": []
          },
          "execution_count": 139
        }
      ]
    },
    {
      "cell_type": "markdown",
      "metadata": {
        "id": "CEuieh_KObj0"
      },
      "source": [
        "**Naive Bays**"
      ]
    },
    {
      "cell_type": "code",
      "metadata": {
        "colab": {
          "base_uri": "https://localhost:8080/",
          "height": 231
        },
        "id": "E2LbTbdaOdZX",
        "outputId": "9bb2920c-0cb5-4871-f33c-1b17b52895a4"
      },
      "source": [
        "from sklearn.naive_bayes import GaussianNB\n",
        "\n",
        "clf_gnb = GaussianNB()\n",
        "yoyo = np()\n",
        "\n",
        "clf_gnb.fit(train_x_vectors, train_y)\n",
        "\n",
        "clf_gnb.predict(train_x_vectors[0])"
      ],
      "execution_count": 142,
      "outputs": [
        {
          "output_type": "error",
          "ename": "TypeError",
          "evalue": "ignored",
          "traceback": [
            "\u001b[0;31m---------------------------------------------------------------------------\u001b[0m",
            "\u001b[0;31mTypeError\u001b[0m                                 Traceback (most recent call last)",
            "\u001b[0;32m<ipython-input-142-2932de0d3462>\u001b[0m in \u001b[0;36m<module>\u001b[0;34m()\u001b[0m\n\u001b[1;32m      2\u001b[0m \u001b[0;34m\u001b[0m\u001b[0m\n\u001b[1;32m      3\u001b[0m \u001b[0mclf_gnb\u001b[0m \u001b[0;34m=\u001b[0m \u001b[0mGaussianNB\u001b[0m\u001b[0;34m(\u001b[0m\u001b[0;34m)\u001b[0m\u001b[0;34m\u001b[0m\u001b[0;34m\u001b[0m\u001b[0m\n\u001b[0;32m----> 4\u001b[0;31m \u001b[0myoyo\u001b[0m \u001b[0;34m=\u001b[0m \u001b[0mnp\u001b[0m\u001b[0;34m(\u001b[0m\u001b[0;34m)\u001b[0m\u001b[0;34m\u001b[0m\u001b[0;34m\u001b[0m\u001b[0m\n\u001b[0m\u001b[1;32m      5\u001b[0m \u001b[0;34m\u001b[0m\u001b[0m\n\u001b[1;32m      6\u001b[0m \u001b[0mclf_gnb\u001b[0m\u001b[0;34m.\u001b[0m\u001b[0mfit\u001b[0m\u001b[0;34m(\u001b[0m\u001b[0mtrain_x_vectors\u001b[0m\u001b[0;34m,\u001b[0m \u001b[0mtrain_y\u001b[0m\u001b[0;34m)\u001b[0m\u001b[0;34m\u001b[0m\u001b[0;34m\u001b[0m\u001b[0m\n",
            "\u001b[0;31mTypeError\u001b[0m: 'module' object is not callable"
          ]
        }
      ]
    },
    {
      "cell_type": "code",
      "metadata": {
        "id": "DN19S4T9OaDD"
      },
      "source": [
        ""
      ],
      "execution_count": null,
      "outputs": []
    }
  ]
}